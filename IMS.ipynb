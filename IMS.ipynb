{
  "nbformat": 4,
  "nbformat_minor": 0,
  "metadata": {
    "colab": {
      "name": "IMS.ipynb",
      "provenance": [],
      "collapsed_sections": []
    },
    "kernelspec": {
      "name": "python3",
      "display_name": "Python 3"
    },
    "language_info": {
      "name": "python"
    }
  },
  "cells": [
    {
      "cell_type": "markdown",
      "metadata": {
        "id": "p_AkVw9eZoj2"
      },
      "source": [
        "# **WELCOME TO EXCLUSIVE MART INVENTORY MANAGEMENT SYSTEM**"
      ]
    },
    {
      "cell_type": "code",
      "metadata": {
        "id": "gFDlfH-vaJO_"
      },
      "source": [
        "import json \n",
        "f=open(\"record.json\",\"r\")\n",
        "r=f.read()\n",
        "f.close()\n",
        " \n",
        "store=json.loads(r)"
      ],
      "execution_count": 8,
      "outputs": []
    },
    {
      "cell_type": "code",
      "metadata": {
        "id": "bTbA2QjCakJO"
      },
      "source": [
        "store "
      ],
      "execution_count": null,
      "outputs": []
    },
    {
      "cell_type": "code",
      "metadata": {
        "id": "CggF7PExdRDZ"
      },
      "source": [
        ""
      ],
      "execution_count": null,
      "outputs": []
    },
    {
      "cell_type": "markdown",
      "metadata": {
        "id": "6aigDmtqBMk2"
      },
      "source": [
        "# **Customer counter for visiting products, purchasing products and billing section**"
      ]
    },
    {
      "cell_type": "markdown",
      "metadata": {
        "id": "vQ58sYudhliB"
      },
      "source": [
        " **FUNCTION FOR GENERATING BILL**"
      ]
    },
    {
      "cell_type": "code",
      "metadata": {
        "id": "iGXeUYfld2W5"
      },
      "source": [
        "def record_bill():\n",
        "  import json\n",
        "  jsn=json.dumps(bill_record)\n",
        "  del_id=input(\"Enter product id if you want to delete other wise press any key for further procedure:\")\n",
        "  while(del_id in bill_record.keys()):\n",
        "    del bill_record[del_id]\n",
        "    del_id=input(\"Enter product id that we can sure that you want to delete product:\")\n",
        "\n",
        "    \n",
        "  f=open(\"bill_record.json\",\"w\")\n",
        "  f.write(jsn)\n",
        "  f.close()\n",
        "  total_quant=0\n",
        "  total_price=0\n",
        "\n",
        "  #STORE SELLS RECORD \n",
        "  f = open(\"Sells_record.json\",\"r\")\n",
        "  read = f.read()\n",
        "  f.close()\n",
        "  buy = json.loads(read)\n",
        "\n",
        "  recipt_num = (str(len(buy) + 1))\n",
        "\n",
        "\n",
        "\n",
        "  #FOR GENERATING BILL FOR SINGLE PRODUCTS AS WELL AS FOR MULTIPLE PRODUCTS\n",
        "  print(\"===================================================================================\")\n",
        "  for item in bill_record:\n",
        "    print(\"Product ID:\",item)\n",
        "    print(\"Product name:\",bill_record[item][\"name\"])\n",
        "    print(\"Price:\",bill_record[item][\"price\"])\n",
        "    print(\"Quantity:\",ui_qn)\n",
        "    print(\"======================================================================================================\")\n",
        "  if((want==\"n\")or(want==\"N\")):\n",
        "    cust_name=input(\"Enter Customer name:\")\n",
        "    cust_mob=input(\"Enter Customer mobile no.:\")\n",
        "    print(\"***************************Please wait your bill is generating****************************************\")\n",
        "    print(\"======================================================================================================\")\n",
        "    t=time.ctime()\n",
        "    print(\"\\n\\n\\n==================================================================================================================\")\n",
        "    print(\"===========================================EXCLUSIVE MART====================================================================\")\n",
        "    print(\"Customer Name: \",cust_name,\" \\t\\t\\t\\t\\t\\t\\t Time: \",t )\n",
        "    print(\"Customer Mobile no.: \",cust_mob,\"\\t\\t\\t\\t\\t   \\t\\t Recipt no.:\",recipt_num)\n",
        "    print(\"=========================================================================================================\")\n",
        "    print(\"=========================================================================================================\")\n",
        "    print(\"ID\\t\\t NAME\\t\\t\\t PRICE\\t\\t QUANTITY\\t\")\n",
        "    print(\"__________________________________________________________________________________________________________\")\n",
        "    jsn=json.dumps(bill_record)\n",
        "    f=open(\"bill_record.json\",\"w\")\n",
        "    f.write(jsn)\n",
        "    f.close()\n",
        "    for item in bill_record:\n",
        "      print(\"\\n\")\n",
        "      print(item,\"\\t\\t\",bill_record[item]['name'],\"\\t\\t\",bill_record[item][\"price\"],\"\\t\\t\",bill_record[item]['quant'])\n",
        "      total_quant=total_quant + bill_record[item][\"quant\"]\n",
        "      total_price=total_price + (bill_record[item][\"quant\"] * bill_record[item][\"price\"])\n",
        "    print(\"_____________________________________________________________________________________________________________\")\n",
        "    print(\"Total Quantity:\\t\\t\\t\\t\\t\\t\",total_quant)\n",
        "    print(\"_____________________________________________________________________________________________________________\")\n",
        "    print(\"Total Amount:                                                                         \",total_price)\n",
        "    gst=((total_price*5)/100)\n",
        "    print(\"GST:                                                                                  \",gst)\n",
        "    total= gst+ total_price\n",
        "    print(\"Total Payable Amount:                                                                 \",total)\n",
        "    print(\"_____________________________________________________________________________________________________________\")\n",
        "    buy[recipt_num] = {'c_name':cust_name,'mob':cust_mob,'prod_d':jsn,'total_amount':total,'GST':gst,'total_amount':total,'quant':total_quant,'time':t}\n",
        "    d = json.dumps(buy)\n",
        "    f = open(\"Sells_record.json\",\"w\")\n",
        "    f.write(d)\n",
        "    f.close()\n",
        "    print(\"******************************GOOD DAY! THANK YOU FOR COMING, PLEASE COME AGAIN***********************************************\")\n"
      ],
      "execution_count": 10,
      "outputs": []
    },
    {
      "cell_type": "markdown",
      "metadata": {
        "id": "CyWlJdaWh4q0"
      },
      "source": [
        "**CUSTOMER SECTION FOR VISITING AND PURCHASING PRODUCTS ON THE BASIS OF DIFFERENT CATEGORIES AND GENERATE BILL**"
      ]
    },
    {
      "cell_type": "code",
      "metadata": {
        "id": "ZcxsPkKKeigd"
      },
      "source": [
        "print(\"============================================================================================================================\")\n",
        "print(\"*****************************************WELCOME TO EXCLUSIVE MART***********************************************************\")\n",
        "print(\"============================================================================================================================\")\n",
        "import json\n",
        "import time\n",
        "f=open(\"record.json\",\"r\")\n",
        "r=f.read()\n",
        "f.close()\n",
        "\n",
        "store=json.loads(r)\n",
        "\n",
        "\n",
        "\n",
        "flag=0\n",
        "want=input(\"Do u want to buy product for yes press (y/Y) other wise press (n/N) for exit press any key:\")\n",
        "if((want==\"y\")or(want==\"Y\")):\n",
        "  #CUSTOMER CAN BUY PRODUCTS VIA CATEGORIES\n",
        "  while((want==\"y\")or (want==\"Y\")):\n",
        "    print(\"We have available following categories\")\n",
        "    dict={1:\"Fashion Accessories\", 2:\"Grocery\", 3:\"Confectionary\", 4:\"Cosmatics\", 5:\"Electronics\"}\n",
        "    print(\"1.Fashion Accessories  \\n2.Grocery  \\n3.Confectionary  \\n4.Cosmatics  \\n5.Electronics\")\n",
        "    catg=(input(\"Enter category no. :\"))\n",
        "    if((catg==\"1\")or(catg==\"2\")or(catg==\"3\")or(catg==\"4\")or(catg==\"5\")):\n",
        "      print(\"Category:\",dict[int(catg)])\n",
        "      print(\"___________________________________________________________________________________________________________\")\n",
        "      print(\"PRO_ID\\t\\t NAME \\t\\t    PRICE\\t\\t  NET WEIGHT\")\n",
        "      print(\"___________________________________________________________________________________________________________\")\n",
        "      if(catg in store):\n",
        "        for item in store[catg]:\n",
        "          print(item,\"\\t\\t\",store[catg][item]['name'],\"\\t    \",store[catg][item][\"price\"],\"\\t\\t  \",store[catg][item][\"n_weight\"])\n",
        "          print(\"_______________________________________________________________________________________________\")\n",
        "          print(\"________________________________________________________________________________________________\")\n",
        "        ui_id = (input(\"Enter product id that you want to purchase:\"))\n",
        "        if(ui_id in store[catg]):\n",
        "          ui_qn=int(input(\"Enter product quantity that you want to purchase:\"))\n",
        "          store[catg][ui_id][\"quant\"]=store[catg][ui_id][\"quant\"]-ui_qn\n",
        "          if(flag==0):\n",
        "            bill_record={ui_id:{\"name\": store[catg][ui_id][\"name\"],\"price\":store[catg][ui_id][\"price\"], \"quant\":store[catg][ui_id][\"quant\"]}}\n",
        "            jsn=json.dumps(bill_record)\n",
        "            f=open(\"bill_record.json\",\"w\")\n",
        "            f.write(jsn)\n",
        "            f.close()\n",
        "          else:\n",
        "            bill_record[ui_id]={\"name\": store[catg][ui_id][\"name\"],\"price\":store[catg][ui_id][\"price\"], \"quant\":store[catg][ui_id][\"quant\"]}\n",
        "            jsn=json.dumps(bill_record)\n",
        "            f=open(\"bill_record.json\",\"w\")\n",
        "            f.write(jsn)\n",
        "            f.close()\n",
        "          want=input(\"Do u want to add product:\")\n",
        "          flag=flag+1\n",
        "          record_bill()\n",
        "        else:\n",
        "          print(\"Please enter valid id!!!\")\n",
        "    else:\n",
        "      print(\"Please enter valid category!!!\")\n",
        "\n",
        "#CUSTOMER CAN ONLY VISIT PRODUCTS VIA CATEGORIES\n",
        "elif((want==\"n\")or (want==\"N\")):\n",
        "  visit=input(\"Want to visit(v/V) for exit press any key:\")\n",
        "  while((visit==\"v\")or (visit==\"V\")):\n",
        "    print(\"We have available following categories\")\n",
        "    dict={1:\"Fashion Accessories\", 2:\"Grocery\", 3:\"Confectionary\", 4:\"Cosmatics\", 5:\"Electronics\"}\n",
        "    print(\"1.Fashion Accessories  \\n2.Grocery  \\n3.Confectionary  \\n4.Cosmatics  \\n5.Electronics\")\n",
        "    catg = input(\"Enter category no. :\")\n",
        "    if((catg==\"1\")or(catg==\"2\")or(catg==\"3\")or(catg==\"4\")or(catg==\"5\")):\n",
        "      print(\"Category:\",dict[int(catg)])\n",
        "      print(\"___________________________________________________________________________________________________________\")\n",
        "      print(\"PRO_ID\\t\\t NAME \\t\\t\\t\\t\\t\\t\\t\\t\\t    PRICE\\t\\t\\t\\t  NET WEIGHT\")\n",
        "      print(\"___________________________________________________________________________________________________________\")\n",
        "      if(catg in store):\n",
        "       for item in store[catg]:\n",
        "          print(item,\"\\t\\t\",store[catg][item]['name'],\"\\t    \",store[catg][item][\"price\"],\"\\t\\t  \",store[catg][item][\"n_weight\"])\n",
        "          print(\"_______________________________________________________________________________________________\")\n",
        "          print(\"________________________________________________________________________________________________\")\n",
        "      visit=input(\"Want to visit(v/V) for exit press any key:\")\n",
        "    else:\n",
        "      print(\"Please enter valid category!!!\")\n",
        "    \n",
        "  print(\"Thank you for visiting!!\")  \n",
        "\n",
        "else:\n",
        "  print(\"Thank you,come again!!\")  \n",
        "\n",
        "\n",
        "\n"
      ],
      "execution_count": null,
      "outputs": []
    },
    {
      "cell_type": "code",
      "metadata": {
        "id": "EmWJxdfUej1b"
      },
      "source": [
        ""
      ],
      "execution_count": null,
      "outputs": []
    },
    {
      "cell_type": "code",
      "metadata": {
        "id": "mQ9YfVADQRYX"
      },
      "source": [
        ""
      ],
      "execution_count": null,
      "outputs": []
    },
    {
      "cell_type": "markdown",
      "metadata": {
        "id": "PZVS8B3dZSpx"
      },
      "source": [
        "# **SELLER'S/OWNER SECTION FOR UPDATING THE INVENTORY VIA ADDING OR DELETING PRODUCTS**"
      ]
    },
    {
      "cell_type": "code",
      "metadata": {
        "id": "k2GtMBuxYHKO"
      },
      "source": [
        "import json \n",
        "f=open(\"record.json\",\"r\")\n",
        "txt=f.read()\n",
        "f.close()\n",
        " \n",
        "store=json.loads(txt)"
      ],
      "execution_count": 12,
      "outputs": []
    },
    {
      "cell_type": "markdown",
      "metadata": {
        "id": "zcteUYlNhPCB"
      },
      "source": [
        "**FUNCTION FOR RECORD UPDATION**"
      ]
    },
    {
      "cell_type": "code",
      "metadata": {
        "id": "H0yv14GGYHt5"
      },
      "source": [
        "def record_update():\n",
        "  jsn=json.dumps(bill_record)\n",
        "  f=open(\"bill_record.json\",\"w\")\n",
        "  f.write(jsn)\n",
        "  f.close()\n",
        "  \n",
        "  #STORE RECORD OF INVENTORY THAT SELLER ADDED AND UPDATED\n",
        "  f = open(\"Product add record.json\",\"r\")\n",
        "  read = f.read()\n",
        "  f.close()\n",
        "  add = json.loads(read)\n",
        "  \n",
        "  add_num = (str(len(add)+1))\n",
        "  add[add_num] = {\"product_detail\":jsn}\n",
        "  d = json.dumps(add)\n",
        "  f = open(\"Product add record.json\",\"w\")\n",
        "  f.write(d)\n",
        "  f.close()"
      ],
      "execution_count": 13,
      "outputs": []
    },
    {
      "cell_type": "markdown",
      "metadata": {
        "id": "3HUhXruCgdvG"
      },
      "source": [
        "**FOR PURPOSE OF UPDATING AND VISITING INVENTORY**\n",
        "\n"
      ]
    },
    {
      "cell_type": "code",
      "metadata": {
        "id": "SHZvRzzLYH6K"
      },
      "source": [
        "import json\n",
        "flag=0\n",
        "want=input(\"For adding product in inventory press (y/Y) and for deletion press (d/D) for exit press any key:\")\n",
        "if((want==\"y\")or(want==\"Y\")):\n",
        "  while((want==\"y\")or (want==\"Y\")):\n",
        "    print(\"We have available following categories\")\n",
        "    dict={1:\"Fashion Accessories\", 2:\"Grocery\", 3:\"Confectionary\", 4:\"Cosmatics\", 5:\"Electronics\"}\n",
        "    print(\"1.Fashion Accessories  \\n2.Grocery  \\n3.Confectionary  \\n4.Cosmatics  \\n5.Electronics\")\n",
        "    catg=(input(\"Enter category no. :\"))\n",
        "    if((catg==\"1\")or(catg==\"2\")or(catg==\"3\")or(catg==\"4\")or(catg==\"5\")):\n",
        "      print(\"Category:\",dict[int(catg)])\n",
        "      print(\"___________________________________________________________________________________________________________\")\n",
        "      print(\"PRO_ID\\t\\t NAME \\t\\t    PRICE\\t\\t  NET WEIGHT\\t\\t  QUANT\")\n",
        "      print(\"___________________________________________________________________________________________________________\")\n",
        "      for item in store[catg]:\n",
        "        print(item,\"\\t\\t\",store[catg][item]['name'],\"\\t    \",store[catg][item][\"price\"],\"\\t\\t  \",store[catg][item][\"n_weight\"],\"\\t\\t  \",store[catg][item][\"quant\"])\n",
        "        print(\"_______________________________________________________________________________________________\")\n",
        "        print(\"_______________________________________________________________________________________________\")\n",
        "      ui_id = (input(\"Enter product id that you want to add in inventory:\"))\n",
        "      #SELLER UPDATE PRODUCTS QUANTITY WHICH IS ALREADY AVAILABLE IN INVENTORY\n",
        "      if(ui_id in store[catg]):\n",
        "        ui_qn=int(input(\"Enter product quantity that you want to add in inventory:\"))\n",
        "        store[catg][ui_id][\"quant\"]=store[catg][ui_id][\"quant\"]+ui_qn\n",
        "        jsn = json.dumps(store)\n",
        "        f = open(\"record.json\",\"w\")\n",
        "        f.write(jsn) \n",
        "        f.close() \n",
        "        if(flag == 0):\n",
        "          bill_record = {ui_id:{'name':store[catg][ui_id]['name'],'price':store[catg][ui_id]['price'],'quant':ui_qn}}\n",
        "          jsn = json.dumps(bill_record)\n",
        "          f = open(\"bill_record.json\",\"w\")\n",
        "          f.write(jsn)\n",
        "          f.close()\n",
        "        else:\n",
        "          bill_record[ui_id] = {'name': store[catg][ui_id]['name'], 'price':store[catg][ui_id]['price'] , 'quant': ui_qn}\n",
        "          jsn = json.dumps(bill_record)\n",
        "          f = open(\"bill_record.json\",\"w\")\n",
        "          f.write(jsn)\n",
        "          f.close()\n",
        "        flag = flag + 1 \n",
        "        want = input(\"Do you want to add more products for yes press(y/Y) for no pres(n/N)?\")\n",
        "      #SELLER CAN ADD NEW PRODUCTS AND CAN ALSO UPDATE GIVEN PRODUCTS QUANTITY IN INVENTORY\n",
        "      else:\n",
        "        print(\"Entered id is not valid\")\n",
        "        n_id=input(\"You want to generate new product id for yes press(y/Y) for no pres(n/N):\")\n",
        "        if((n_id==\"y\") or (n_id==\"Y\")):\n",
        "          for i in store[catg]:\n",
        "            print(end=\"\")\n",
        "          c=int(i)+1\n",
        "          new_id=str(c)\n",
        "          new_prod=input(\"Enter new product name:\")\n",
        "          new_quan=int(input(\"Enter new product quantity:\"))\n",
        "          new_wt=int(input(\"Enter new product weight:\"))\n",
        "          prod_pri=int(input(\"Enter new product price:\"))\n",
        "          store[catg][new_id]={\"name\":new_prod, \"price\":prod_pri, \"n_weight\":new_wt, \"quant\":new_quan }\n",
        "          jsn = json.dumps(store)\n",
        "          f = open(\"record.json\",'w')\n",
        "          f.write(jsn)\n",
        "          f.close()\n",
        "          if (flag == 0):\n",
        "            bill_record[new_id] = {'name':new_prod,'price':prod_pri,'n_weight':new_wt,'quant':new_quan}\n",
        "            jsn = json.dumps(bill_record)\n",
        "            f = open(\"bill_record.json\",\"w\")\n",
        "            f.write(jsn)\n",
        "            f.close()\n",
        "          else:\n",
        "            bill_record ={new_id:{'name': new_prod, 'price':prod_pri ,'n_weight':new_wt,'quant': new_quan}}\n",
        "            jsn = json.dumps(bill_record)\n",
        "            f = open(\"bill_record.json\",\"w\")\n",
        "            f.write(jsn)\n",
        "            f.close()\n",
        "          flag = flag + 1\n",
        "          want=input(\"Do u want to add more products for yes press(y/Y) for no pres(n/N):\")\n",
        "\n",
        "\n",
        "  print(\"Inventory is updated !!!\")\n",
        "  record_update() \n",
        "#else:\n",
        "  #print(\"Thank you! but you added nothing in inventory!!!\")\n",
        "#FOR DELETING PRODUCT FROM INVENTORY\n",
        "elif((want==\"d\")or(want==\"D\")):\n",
        "  #print(\"Thank you! but you added nothing in inventory!!!\")\n",
        "  delete=input(\"Do you want to delete product press(y/Y) otherwise(n/N):\")\n",
        "  if((delete==\"y\")or(delete==\"y\")):\n",
        "    while((delete==\"y\")or(delete==\"Y\")):\n",
        "      print(\"We have available following categories\")\n",
        "      dict={1:\"Fashion Accessories\", 2:\"Grocery\", 3:\"Confectionary\", 4:\"Cosmatics\", 5:\"Electronics\"}\n",
        "      print(\"1.Fashion Accessories  \\n2.Grocery  \\n3.Confectionary  \\n4.Cosmatics  \\n5.Electronics\")\n",
        "      catg=(input(\"Enter category no. :\"))\n",
        "      if((catg==\"1\")or(catg==\"2\")or(catg==\"3\")or(catg==\"4\")or(catg==\"5\")):\n",
        "        print(\"Category:\",dict[int(catg)])\n",
        "        print(\"___________________________________________________________________________________________________________\")\n",
        "        print(\"PRO_ID\\t\\t NAME \\t\\t    PRICE\\t\\t  NET WEIGHT\\t\\t  QUANT\")\n",
        "        print(\"___________________________________________________________________________________________________________\")\n",
        "        #if(catg in store):\n",
        "        for item in store[catg]:\n",
        "          print(item,\"\\t\\t\",store[catg][item]['name'],\"\\t    \",store[catg][item][\"price\"],\"\\t\\t  \",store[catg][item][\"n_weight\"],\"\\t\\t  \",store[catg][item][\"quant\"])\n",
        "          print(\"_______________________________________________________________________________________________\")\n",
        "          print(\"*******************************************************************************************\")\n",
        "        del_id=input(\"Enter id that you want to delete:\")\n",
        "        if(del_id in store[catg].keys()):\n",
        "          del store[catg][del_id]\n",
        "          delete=input(\"Do you want to delete product press(y/Y) otherwise(n/N):\")\n",
        "          jsn = json.dumps(store)\n",
        "          f = open(\"record.json\",\"w\")\n",
        "          f.write(jsn) \n",
        "          f.close() \n",
        "        else:\n",
        "          print(\"No items exists\")\n",
        "  \n",
        "\n",
        "else:\n",
        "  print(\"Thank you! but you added nothing in inventory!!!\")\n",
        "\n",
        "print(\"Thank you\")\n",
        "\n",
        "\n",
        "\n",
        "\n",
        "\n",
        "\n"
      ],
      "execution_count": null,
      "outputs": []
    },
    {
      "cell_type": "code",
      "metadata": {
        "id": "a9OuUm1PYIEp"
      },
      "source": [
        "store"
      ],
      "execution_count": null,
      "outputs": []
    },
    {
      "cell_type": "code",
      "metadata": {
        "id": "O2QTl4KlYZvf"
      },
      "source": [
        ""
      ],
      "execution_count": null,
      "outputs": []
    },
    {
      "cell_type": "code",
      "metadata": {
        "id": "QKbTKW9FYZ9P"
      },
      "source": [
        ""
      ],
      "execution_count": null,
      "outputs": []
    },
    {
      "cell_type": "code",
      "metadata": {
        "id": "Zc90FucxET2H"
      },
      "source": [
        ""
      ],
      "execution_count": null,
      "outputs": []
    },
    {
      "cell_type": "markdown",
      "metadata": {
        "id": "oIXg0gnNG9i8"
      },
      "source": [
        ""
      ]
    },
    {
      "cell_type": "code",
      "metadata": {
        "id": "hbye_fNQGRi5"
      },
      "source": [
        ""
      ],
      "execution_count": null,
      "outputs": []
    }
  ]
}